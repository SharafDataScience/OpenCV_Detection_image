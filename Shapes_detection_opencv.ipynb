{
 "cells": [
  {
   "cell_type": "markdown",
   "id": "5d4322ae-07b3-4079-9db3-04c3a78fa15c",
   "metadata": {},
   "source": [
    "# detection of shapes(e.g., YOLO, SSD)\r\n",
    "- GUI dashboard for live monitoring and analytics\r\n",
    "\r\n",
    "---\r\n"
   ]
  },
  {
   "cell_type": "code",
   "execution_count": 13,
   "id": "7a83edbd-8d49-4fb4-895b-a1513aed25ba",
   "metadata": {},
   "outputs": [
    {
     "name": "stdout",
     "output_type": "stream",
     "text": [
      "Aspect Ratio: 1.0\n",
      "Aspect Ratio: 1.0\n",
      "Aspect Ratio: 1.836734693877551\n"
     ]
    }
   ],
   "source": [
    "import numpy as np\n",
    "import cv2\n",
    "\n",
    "# Load the image\n",
    "img = cv2.imread('shappes.jpg')\n",
    "\n",
    "# Convert to grayscale\n",
    "imgGrey = cv2.cvtColor(img, cv2.COLOR_BGR2GRAY)\n",
    "\n",
    "# Apply binary thresholding\n",
    "_, thrash = cv2.threshold(imgGrey, 240, 255, cv2.THRESH_BINARY)\n",
    "\n",
    "# Find contours in the thresholded image\n",
    "contours, _ = cv2.findContours(thrash, cv2.RETR_TREE, cv2.CHAIN_APPROX_NONE)\n",
    "\n",
    "# Loop through each contour\n",
    "for contour in contours:\n",
    "    # Approximate the contour to a polygon\n",
    "    approx = cv2.approxPolyDP(contour, 0.01 * cv2.arcLength(contour, True), True)\n",
    "\n",
    "    # Draw the contour\n",
    "    cv2.drawContours(img, [approx], 0, (0, 0, 0), 5)\n",
    "\n",
    "    # Get coordinates for text label\n",
    "    x = approx.ravel()[0]\n",
    "    y = approx.ravel()[1] - 5\n",
    "\n",
    "    # Detect shape based on number of vertices\n",
    "    if len(approx) == 3:\n",
    "        cv2.putText(img, \"Triangle\", (x, y), cv2.FONT_HERSHEY_COMPLEX, 0.5, (0, 0, 0))\n",
    "\n",
    "    elif len(approx) == 4:\n",
    "        x1, y1, w, h = cv2.boundingRect(approx)\n",
    "        aspectRatio = float(w) / h\n",
    "        print(f\"Aspect Ratio: {aspectRatio}\")\n",
    "\n",
    "        if 0.95 <= aspectRatio <= 1.05:\n",
    "            cv2.putText(img, \"Square\", (x, y), cv2.FONT_HERSHEY_COMPLEX, 0.5, (0, 0, 0))\n",
    "        else:\n",
    "            cv2.putText(img, \"Rectangle\", (x, y), cv2.FONT_HERSHEY_COMPLEX, 0.5, (0, 0, 0))\n",
    "\n",
    "    elif len(approx) == 5:\n",
    "        cv2.putText(img, \"Pentagon\", (x, y), cv2.FONT_HERSHEY_COMPLEX, 0.5, (0, 0, 0))\n",
    "\n",
    "    elif len(approx) == 10:\n",
    "        cv2.putText(img, \"Star\", (x, y), cv2.FONT_HERSHEY_COMPLEX, 0.5, (0, 0, 0))\n",
    "\n",
    "    else:\n",
    "        cv2.putText(img, \"Circle\", (x, y), cv2.FONT_HERSHEY_COMPLEX, 0.5, (0, 0, 0))\n",
    "\n",
    "# Display the final image with shapes labeled\n",
    "cv2.imshow(\"shapes\", img)\n",
    "cv2.waitKey(0)\n",
    "cv2.destroyAllWindows()\n"
   ]
  },
  {
   "cell_type": "code",
   "execution_count": null,
   "id": "967121f5-c864-459a-bb55-4d3ba117d19a",
   "metadata": {},
   "outputs": [],
   "source": []
  },
  {
   "cell_type": "code",
   "execution_count": null,
   "id": "e756631a-eec9-47a0-86ec-a93d6bc3e18d",
   "metadata": {},
   "outputs": [],
   "source": []
  }
 ],
 "metadata": {
  "kernelspec": {
   "display_name": "Python 3 (ipykernel)",
   "language": "python",
   "name": "python3"
  },
  "language_info": {
   "codemirror_mode": {
    "name": "ipython",
    "version": 3
   },
   "file_extension": ".py",
   "mimetype": "text/x-python",
   "name": "python",
   "nbconvert_exporter": "python",
   "pygments_lexer": "ipython3",
   "version": "3.12.4"
  }
 },
 "nbformat": 4,
 "nbformat_minor": 5
}
